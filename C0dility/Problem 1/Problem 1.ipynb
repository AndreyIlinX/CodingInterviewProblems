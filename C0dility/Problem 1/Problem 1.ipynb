{
 "cells": [
  {
   "cell_type": "code",
   "execution_count": 19,
   "metadata": {},
   "outputs": [],
   "source": [
    "def int_to_binary(num):\n",
    "    return \"{0:b}\".format(num)"
   ]
  },
  {
   "cell_type": "code",
   "execution_count": 28,
   "metadata": {},
   "outputs": [
    {
     "name": "stdout",
     "output_type": "stream",
     "text": [
      "10011100001\n"
     ]
    }
   ],
   "source": [
    "print(int_to_binary(1249))"
   ]
  },
  {
   "cell_type": "code",
   "execution_count": 31,
   "metadata": {},
   "outputs": [],
   "source": [
    "import ipdb"
   ]
  },
  {
   "cell_type": "code",
   "execution_count": 57,
   "metadata": {},
   "outputs": [],
   "source": [
    "def solution(pos_int):\n",
    "    if not (isinstance(pos_int, int)):\n",
    "        print(\"The input value is not an integer\")\n",
    "        return 0\n",
    "\n",
    "    if pos_int < 0:\n",
    "        return 0\n",
    "    num_bin = int_to_binary(pos_int)\n",
    "    print(num_bin)\n",
    "    max_bin_gap_size = 0\n",
    "    bin_gap_size = 0\n",
    "    i = len(num_bin) - 1\n",
    "    while (i > 0):\n",
    "        if num_bin[i] == '1':\n",
    "            while (num_bin[i - 1] == '0' and i > 0):\n",
    "                bin_gap_size = bin_gap_size + 1\n",
    "                i = i - 1\n",
    "            if bin_gap_size > max_bin_gap_size:\n",
    "                max_bin_gap_size = bin_gap_size\n",
    "            bin_gap_size = 0\n",
    "        if i > 0:\n",
    "            i = i - 1\n",
    "    return max_bin_gap_size"
   ]
  },
  {
   "cell_type": "code",
   "execution_count": 60,
   "metadata": {},
   "outputs": [
    {
     "data": {
      "text/plain": [
       "0"
      ]
     },
     "execution_count": 60,
     "metadata": {},
     "output_type": "execute_result"
    }
   ],
   "source": [
    "solution(1023)"
   ]
  },
  {
   "cell_type": "code",
   "execution_count": null,
   "metadata": {},
   "outputs": [],
   "source": []
  },
  {
   "cell_type": "code",
   "execution_count": null,
   "metadata": {},
   "outputs": [],
   "source": []
  }
 ],
 "metadata": {
  "kernelspec": {
   "display_name": "Python 3",
   "language": "python",
   "name": "python3"
  },
  "language_info": {
   "codemirror_mode": {
    "name": "ipython",
    "version": 3
   },
   "file_extension": ".py",
   "mimetype": "text/x-python",
   "name": "python",
   "nbconvert_exporter": "python",
   "pygments_lexer": "ipython3",
   "version": "3.6.4"
  }
 },
 "nbformat": 4,
 "nbformat_minor": 2
}
