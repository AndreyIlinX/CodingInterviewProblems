{
 "cells": [
  {
   "cell_type": "code",
   "execution_count": 30,
   "metadata": {},
   "outputs": [
    {
     "name": "stdout",
     "output_type": "stream",
     "text": [
      "[9, 7, 6, 3, 8]\n"
     ]
    }
   ],
   "source": [
    "def solution(A, K):\n",
    "    if K == 0 or A == []:\n",
    "        return A\n",
    "    N = len(A)\n",
    "    K_actual = K % N\n",
    "    for i in range(K_actual):\n",
    "        last_element = A.pop()\n",
    "        A.insert(0, last_element)\n",
    "    return A\n",
    "\n",
    "def solution_alternative(A, K):\n",
    "    if K == 0 or A == []:\n",
    "        return A\n",
    "    A_copy = A.copy()\n",
    "    N = len(A)\n",
    "    K_actual = K % N\n",
    "    for i in range(N):\n",
    "        A[i] = A_copy[i - K_actual]\n",
    "    return A\n",
    "\n",
    "\n",
    "\n",
    "\n",
    "def main():\n",
    "    print(solution([3, 8, 9, 7, 6], 3))\n",
    "\n",
    "\n",
    "if __name__ == '__main__':\n",
    "    main()\n"
   ]
  }
 ],
 "metadata": {
  "kernelspec": {
   "display_name": "Python 3",
   "language": "python",
   "name": "python3"
  },
  "language_info": {
   "codemirror_mode": {
    "name": "ipython",
    "version": 3
   },
   "file_extension": ".py",
   "mimetype": "text/x-python",
   "name": "python",
   "nbconvert_exporter": "python",
   "pygments_lexer": "ipython3",
   "version": "3.6.4"
  }
 },
 "nbformat": 4,
 "nbformat_minor": 2
}
